{
 "cells": [
  {
   "cell_type": "code",
   "execution_count": 1,
   "id": "3c327ad0",
   "metadata": {},
   "outputs": [],
   "source": [
    "import numpy as np\n",
    "import pandas as pd\n",
    "import matplotlib.pyplot as plt\n",
    "import seaborn as sns"
   ]
  },
  {
   "cell_type": "code",
   "execution_count": 2,
   "id": "07d554d6",
   "metadata": {},
   "outputs": [],
   "source": [
    "from sklearn.model_selection import train_test_split\n",
    "\n",
    "df = pd.read_csv('Instagram_Acc_Data.csv', header = 0)\n",
    "X = df.drop(columns='fake')\n",
    "y = df['fake']\n",
    "\n",
    "# divide the dataset into training (80%) and testing (20%), \n",
    "# each have divided equally based on the label (fake and real accounts)\n",
    "X_train,X_test,y_train,y_test = train_test_split(X,y,test_size=0.20,random_state=0,stratify=y)"
   ]
  },
  {
   "cell_type": "code",
   "execution_count": 3,
   "id": "c90767f3",
   "metadata": {},
   "outputs": [
    {
     "name": "stdout",
     "output_type": "stream",
     "text": [
      "Accuracy   :  0.9214285714285714\n",
      "Precision  :  0.9041095890410958\n",
      "Recall     :  0.9428571428571428\n",
      "F1 Score   :  0.923076923076923\n"
     ]
    },
    {
     "data": {
      "text/plain": [
       "<AxesSubplot:xlabel='Predicted', ylabel='Actual'>"
      ]
     },
     "execution_count": 3,
     "metadata": {},
     "output_type": "execute_result"
    },
    {
     "data": {
      "image/png": "[encoded data removed]",
      "text/plain": [
       "<Figure size 432x288 with 2 Axes>"
      ]
     },
     "metadata": {
      "needs_background": "light"
     },
     "output_type": "display_data"
    }
   ],
   "source": [
    "from sklearn.linear_model import LogisticRegression\n",
    "from sklearn import metrics #Import scikit-learn metrics module for accuracy calculation\n",
    "\n",
    "#Apply logistic regression\n",
    "logistic_regression= LogisticRegression(max_iter=600)\n",
    "\n",
    "#Train the model using the training sets\n",
    "logistic_regression.fit(X_train,y_train)\n",
    "\n",
    "#Predict the response for test dataset\n",
    "y_pred=logistic_regression.predict(X_test)\n",
    "\n",
    "#Find accuracy, precision, recall and f1-score\n",
    "print('Accuracy   : ',metrics.accuracy_score(y_test, y_pred))\n",
    "print('Precision  : ',metrics.precision_score(y_test, y_pred))\n",
    "print('Recall     : ',metrics.recall_score(y_test, y_pred))\n",
    "print('F1 Score   : ',metrics.f1_score(y_test, y_pred))\n",
    "plt.show()\n",
    "\n",
    "#Find confusion matrix\n",
    "confusion_matrix = pd.crosstab(y_test, y_pred, rownames=['Actual'], colnames=['Predicted'])\n",
    "sns.heatmap(confusion_matrix, annot=True)"
   ]
  },
  {
   "cell_type": "code",
   "execution_count": 5,
   "id": "598dc10e",
   "metadata": {},
   "outputs": [
    {
     "name": "stdout",
     "output_type": "stream",
     "text": [
      "Accuracy   :  0.9285714285714286\n",
      "Precision  :  0.9166666666666666\n",
      "Recall     :  0.9428571428571428\n",
      "F1 Score   :  0.9295774647887323\n"
     ]
    },
    {
     "data": {
      "image/png": "[encoded data removed]",
      "text/plain": [
       "<Figure size 432x288 with 2 Axes>"
      ]
     },
     "metadata": {
      "needs_background": "light"
     },
     "output_type": "display_data"
    }
   ],
   "source": [
    "from sklearn.ensemble import RandomForestClassifier\n",
    "from sklearn import metrics\n",
    "     \n",
    "#Create a Random Forest Classifier\n",
    "clf=RandomForestClassifier(random_state=1)\n",
    "\n",
    "#Train the model using the training sets\n",
    "clf.fit(X_train,y_train)\n",
    "\n",
    "#Predict the response for test dataset\n",
    "y_pred=clf.predict(X_test)\n",
    "\n",
    "#Find accuracy, precision, recall and f1-score\n",
    "print('Accuracy   : ',metrics.accuracy_score(y_test, y_pred))\n",
    "print('Precision  : ',metrics.precision_score(y_test, y_pred))\n",
    "print('Recall     : ',metrics.recall_score(y_test, y_pred))\n",
    "print('F1 Score   : ',metrics.f1_score(y_test, y_pred))\n",
    "\n",
    "#Find confusion matrix\n",
    "confusion_matrix = pd.crosstab(y_test, y_pred, rownames=['Actual'], colnames=['Predicted'])\n",
    "# confusion_matrix = metrics.confusion_matrix(y_test,y_pred)\n",
    "sns.heatmap(confusion_matrix,annot=True)\n",
    "plt.show()"
   ]
  },
  {
   "cell_type": "markdown",
   "id": "cdcf75b6",
   "metadata": {},
   "source": [
    "## For predictive modelling, we use Logistic Regression & Random Forest Classifier\n",
    "### Random Forest Classifier has higher accuracy, so we will deploy this model into WebApp"
   ]
  },
  {
   "cell_type": "code",
   "execution_count": 7,
   "id": "70f2e478",
   "metadata": {},
   "outputs": [
    {
     "data": {
      "text/plain": [
       "array([1], dtype=int64)"
      ]
     },
     "execution_count": 7,
     "metadata": {},
     "output_type": "execute_result"
    }
   ],
   "source": [
    "## Demo clf (=Random Forest Classifier)\n",
    "# input features (profile pic,nums/length username,description length,external URL,#posts,#followers,#follows)\n",
    "# to get prediction result\n",
    "features = np.array([[0,0.51,53,0,32,1000,955]])\n",
    "clf.predict(features) ##result show 1 which means fake account"
   ]
  },
  {
   "cell_type": "code",
   "execution_count": 8,
   "id": "7cceedac",
   "metadata": {},
   "outputs": [],
   "source": [
    "# save the model with Pickle\n",
    "import pickle\n",
    "pickle.dump(clf, open('model.pkl', 'wb'))"
   ]
  }
 ],
 "metadata": {
  "kernelspec": {
   "display_name": "Python 3",
   "language": "python",
   "name": "python3"
  },
  "language_info": {
   "codemirror_mode": {
    "name": "ipython",
    "version": 3
   },
   "file_extension": ".py",
   "mimetype": "text/x-python",
   "name": "python",
   "nbconvert_exporter": "python",
   "pygments_lexer": "ipython3",
   "version": "3.8.8"
  }
 },
 "nbformat": 4,
 "nbformat_minor": 5
}
